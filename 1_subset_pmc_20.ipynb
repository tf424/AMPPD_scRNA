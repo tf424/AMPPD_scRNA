{
 "cells": [
  {
   "cell_type": "code",
   "execution_count": 11,
   "metadata": {},
   "outputs": [],
   "source": [
    "import scanpy as sc\n",
    "import pandas as pd\n",
    "import harmonypy as hm\n",
    "import anndata\n",
    "import matplotlib.pyplot as plt"
   ]
  },
  {
   "cell_type": "code",
   "execution_count": 12,
   "metadata": {},
   "outputs": [
    {
     "name": "stderr",
     "output_type": "stream",
     "text": [
      "/rds/general/user/tf424/home/miniforge3/envs/new_sc_env/lib/python3.10/site-packages/anndata/__init__.py:42: FutureWarning: `anndata.read` is deprecated, use `anndata.read_h5ad` instead. `ad.read` will be removed in mid 2024.\n",
      "  warnings.warn(\n"
     ]
    }
   ],
   "source": [
    "# Load the h5ad file\n",
    "data_path = \"/rds/general/user/tf424/projects/single_cell_pd/live/amppd_brain/merged_data_amppd/quantification/amppd_merged_snRNAseq_annotated.h5ad\"\n",
    "adata = anndata.read(data_path,backed='r')"
   ]
  },
  {
   "cell_type": "code",
   "execution_count": 13,
   "metadata": {},
   "outputs": [],
   "source": [
    "# Extract brain_region info\n",
    "adata.obs['brain_region'] = adata.obs['sample_id'].str.extract(r'-(GPI|PMC|PVC|DMNX|PFC)-')"
   ]
  },
  {
   "cell_type": "code",
   "execution_count": 14,
   "metadata": {},
   "outputs": [
    {
     "name": "stdout",
     "output_type": "stream",
     "text": [
      "Index(['participant_id', 'GUID', 'visit_name', 'visit_month',\n",
      "       'age_at_baseline', 'sex', 'ethnicity', 'race', 'education_level_years'],\n",
      "      dtype='object')\n"
     ]
    }
   ],
   "source": [
    "# Load demographics CSV\n",
    "demographics = pd.read_csv(\"/rds/general/user/tf424/home/clinical/Demographics.csv\")\n",
    "\n",
    "# Check\n",
    "print(demographics.columns)"
   ]
  },
  {
   "cell_type": "code",
   "execution_count": 15,
   "metadata": {},
   "outputs": [],
   "source": [
    "# Set index to match\n",
    "demographics = demographics.set_index(\"participant_id\")\n",
    "\n",
    "# Add gender\n",
    "adata.obs[\"sex\"] = adata.obs[\"participant_id\"].map(demographics[\"sex\"])"
   ]
  },
  {
   "cell_type": "code",
   "execution_count": 16,
   "metadata": {},
   "outputs": [],
   "source": [
    "adata.obs['sex'] = adata.obs['sex'].astype('category')"
   ]
  },
  {
   "cell_type": "code",
   "execution_count": 17,
   "metadata": {},
   "outputs": [
    {
     "name": "stdout",
     "output_type": "stream",
     "text": [
      "                                              sample_id   participant_id  \\\n",
      "barcodekey                                                                 \n",
      "Set10_C1-AAACCCACATCACGGC   PM-UM_BEB19139-BLM0-GPI-RSN   PM-UM_BEB19139   \n",
      "Set10_C1-AAACCCAGTAGCACAG  PM-UD_11485_001-BLM0-PMC-RSN  PM-UD_11485_001   \n",
      "Set10_C1-AAACCCAGTATGTCCA   PM-UM_BEB19139-BLM0-GPI-RSN   PM-UM_BEB19139   \n",
      "Set10_C1-AAACCCAGTCCAGAAG  PM-UD_11485_001-BLM0-PMC-RSN  PM-UD_11485_001   \n",
      "Set10_C1-AAACCCATCCACGTAA  PM-UD_11485_001-BLM0-PMC-RSN  PM-UD_11485_001   \n",
      "\n",
      "                          cell_type brain_region     sex  \n",
      "barcodekey                                                \n",
      "Set10_C1-AAACCCACATCACGGC     Oligo          GPI    Male  \n",
      "Set10_C1-AAACCCAGTAGCACAG     Oligo          PMC  Female  \n",
      "Set10_C1-AAACCCAGTATGTCCA     Oligo          GPI    Male  \n",
      "Set10_C1-AAACCCAGTCCAGAAG     Oligo          PMC  Female  \n",
      "Set10_C1-AAACCCATCCACGTAA     Astro          PMC  Female  \n"
     ]
    }
   ],
   "source": [
    "print(adata.obs.head())"
   ]
  },
  {
   "cell_type": "code",
   "execution_count": 18,
   "metadata": {},
   "outputs": [],
   "source": [
    "# Load the CSV files\n",
    "file_1 = \"/rds/general/user/tf424/projects/ppmi_verily/live/AMP-PD/participants/amp_pd_case_control.csv\"\n",
    "file_2 = \"/rds/general/user/tf424/projects/ppmi_verily/live/AMP-PD/participants/amp_pd_participants.csv\"\n",
    "# Convert into df\n",
    "df_1 = pd.read_csv(file_1)\n",
    "df_3 = pd.read_csv(file_2)\n",
    "# Merge\n",
    "merged_data = pd.merge(df_1, df_3, on='participant_id', how='inner')"
   ]
  },
  {
   "cell_type": "code",
   "execution_count": 19,
   "metadata": {},
   "outputs": [
    {
     "name": "stdout",
     "output_type": "stream",
     "text": [
      "                      sample_id   participant_id cell_type brain_region  \\\n",
      "0   PM-UM_BEB19139-BLM0-GPI-RSN   PM-UM_BEB19139     Oligo          GPI   \n",
      "1  PM-UD_11485_001-BLM0-PMC-RSN  PM-UD_11485_001     Oligo          PMC   \n",
      "2   PM-UM_BEB19139-BLM0-GPI-RSN   PM-UM_BEB19139     Oligo          GPI   \n",
      "3  PM-UD_11485_001-BLM0-PMC-RSN  PM-UD_11485_001     Oligo          PMC   \n",
      "4  PM-UD_11485_001-BLM0-PMC-RSN  PM-UD_11485_001     Astro          PMC   \n",
      "\n",
      "      sex diagnosis_at_baseline     diagnosis_latest  \\\n",
      "0    Male   Parkinson's Disease  Parkinson's Disease   \n",
      "1  Female   Parkinson's Disease  Parkinson's Disease   \n",
      "2    Male   Parkinson's Disease  Parkinson's Disease   \n",
      "3  Female   Parkinson's Disease  Parkinson's Disease   \n",
      "4  Female   Parkinson's Disease  Parkinson's Disease   \n",
      "\n",
      "  case_control_other_at_baseline case_control_other_latest guid  \\\n",
      "0                           Case                      Case  NaN   \n",
      "1                           Case                      Case  NaN   \n",
      "2                           Case                      Case  NaN   \n",
      "3                           Case                      Case  NaN   \n",
      "4                           Case                      Case  NaN   \n",
      "\n",
      "               study study_participant_id  \n",
      "0  Post Mortem Brain          UM_BEB19139  \n",
      "1  Post Mortem Brain         UD_11485_001  \n",
      "2  Post Mortem Brain          UM_BEB19139  \n",
      "3  Post Mortem Brain         UD_11485_001  \n",
      "4  Post Mortem Brain         UD_11485_001  \n"
     ]
    }
   ],
   "source": [
    "participants_data = merged_data\n",
    "merged_obs = pd.merge(adata.obs, participants_data, on='participant_id', how='inner')\n",
    "merged_obs = merged_obs.reset_index(drop=True)\n",
    "adata.obs = merged_obs\n",
    "\n",
    "# Check\n",
    "print(adata.obs.head())"
   ]
  },
  {
   "cell_type": "code",
   "execution_count": null,
   "metadata": {},
   "outputs": [],
   "source": [
    "# Access obs and count cells per participant\n",
    "obs = adata.obs\n",
    "cell_counts = obs['participant_id'].value_counts()\n",
    "min_cells_required = 500\n",
    "eligible_ids = cell_counts[cell_counts >= min_cells_required].index.tolist()\n",
    "\n",
    "# Subset obs to only eligible participants\n",
    "meta = obs[obs['participant_id'].isin(eligible_ids)][\n",
    "    ['participant_id', 'sex', 'case_control_other_at_baseline']\n",
    "].drop_duplicates()\n",
    "\n",
    "# Sample 5 PD and 5 Control per gender\n",
    "female_pd = meta[(meta['sex'] == 'Female') & \n",
    "                 (meta['case_control_other_at_baseline'] == 'Case')]['participant_id'].sample(5, random_state=1)\n",
    "\n",
    "female_control = meta[(meta['sex'] == 'Female') & \n",
    "                      (meta['case_control_other_at_baseline'] == 'Control')]['participant_id'].sample(5, random_state=1)\n",
    "\n",
    "male_pd = meta[(meta['sex'] == 'Male') & \n",
    "               (meta['case_control_other_at_baseline'] == 'Case')]['participant_id'].sample(5, random_state=1)\n",
    "\n",
    "male_control = meta[(meta['sex'] == 'Male') & \n",
    "                    (meta['case_control_other_at_baseline'] == 'Control')]['participant_id'].sample(5, random_state=1)\n",
    "\n",
    "selected_ids = pd.concat([female_pd, female_control, male_pd, male_control]).tolist()"
   ]
  },
  {
   "cell_type": "code",
   "execution_count": null,
   "metadata": {},
   "outputs": [],
   "source": [
    "# Save list of selected cell barcodes\n",
    "selected_obs = obs[obs['participant_id'].isin(selected_ids)]\n",
    "\n",
    "#  Add checks here\n",
    "meta_check = selected_obs[['participant_id', 'sex', 'case_control_other_at_baseline']].drop_duplicates()\n",
    "\n",
    "# 1. Check participant balance\n",
    "print(\" Participant counts by sex and diagnosis\")\n",
    "print(meta_check.groupby(['sex', 'case_control_other_at_baseline']).size().unstack(fill_value=0))\n",
    "\n",
    "# 2. Check cell counts per participant\n",
    "cell_counts_check = selected_obs['participant_id'].value_counts().sort_values()\n",
    "print(\"Cell counts per participant\")\n",
    "print(cell_counts_check)\n",
    "\n",
    "if (cell_counts_check < min_cells_required).any():\n",
    "    print(\" Some participants have fewer than 500 cells!\")\n",
    "else:\n",
    "    print(\"All participants have ≥ 500 cells.\")\n",
    "\n",
    "# 3. Check total number of cells\n",
    "print(f\"Total number of cells selected: {len(selected_obs)}\")"
   ]
  },
  {
   "cell_type": "code",
   "execution_count": null,
   "metadata": {},
   "outputs": [],
   "source": [
    "# Save\n",
    "selected_barcodes = selected_obs.index.tolist()\n",
    "pd.Series(selected_barcodes).to_csv(\"selected_barcodes.txt\", index=False, header=False)"
   ]
  },
  {
   "cell_type": "code",
   "execution_count": null,
   "metadata": {},
   "outputs": [],
   "source": [
    "adata_filtered = adata[adata.obs_names.isin(selected_barcodes)]\n",
    "adata_filtered = adata_filtered.to_memory()"
   ]
  },
  {
   "cell_type": "code",
   "execution_count": null,
   "metadata": {},
   "outputs": [],
   "source": [
    "# Convert string columns to categorical type\n",
    "adata_filtered.obs = adata_filtered.obs.apply(lambda col: col.astype('category') if col.dtype == 'object' else col)\n",
    "adata_filtered.var = adata_filtered.var.apply(lambda col: col.astype('category') if col.dtype == 'object' else col)"
   ]
  },
  {
   "cell_type": "code",
   "execution_count": null,
   "metadata": {},
   "outputs": [],
   "source": [
    "# Subset to PMC region\n",
    "pmc_adata = adata_filtered[adata_filtered.obs['brain_region'] == 'PMC'].copy()"
   ]
  },
  {
   "cell_type": "code",
   "execution_count": null,
   "metadata": {},
   "outputs": [],
   "source": [
    "# Save\n",
    "adata_filtered.write(\"/rds/general/user/tf424/home/subset_20_filtered.h5ad\")"
   ]
  }
 ],
 "metadata": {
  "kernelspec": {
   "display_name": "Python (new_sc_env)",
   "language": "python",
   "name": "new_sc_env"
  },
  "language_info": {
   "codemirror_mode": {
    "name": "ipython",
    "version": 3
   },
   "file_extension": ".py",
   "mimetype": "text/x-python",
   "name": "python",
   "nbconvert_exporter": "python",
   "pygments_lexer": "ipython3",
   "version": "3.10.18"
  }
 },
 "nbformat": 4,
 "nbformat_minor": 4
}
